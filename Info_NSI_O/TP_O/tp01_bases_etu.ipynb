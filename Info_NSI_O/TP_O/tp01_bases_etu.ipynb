{
 "cells": [
  {
   "cell_type": "markdown",
   "metadata": {
    "pycharm": {
     "name": "#%% md\n"
    }
   },
   "source": [
    "***\n",
    "***\n",
    "\n",
    "# 1 - Introduction\n",
    "\n",
    "Le format du fichier que vous venez de télécharger est un **notebook** au format `ipynb`. \n",
    "Les notebooks que nous allons utiliser contiennent :\n",
    "\n",
    "- des cellules de texte\n",
    "- des cellules de code Python\n",
    "\n",
    "Les cellules de texte s'affichent directement, mais il est nécessaire de demander\n",
    "l'exécution des cellules de code Python pour voir le résultat de l'exécution.\n",
    "\n",
    "Pour que ces cellules soient exécutées, **un environnement d'exécution est nécessaire**. \n",
    "Vous avez le choix entre :\n",
    "\n",
    "- ouvrir le fichier `ipynb` avec l'**environnement intégré** (*IDE*) de votre choix (*Visual Studio Code*, *PyCharm*, ...).\n",
    "- l'ouvrir **en ligne** depuis [https://notebook.basthon.fr/](https://notebook.basthon.fr/).\n",
    "\n",
    "> ⚠️  **Dans le cas où vous utilisez Basthon, attention à sauvegarder régulièrement votre travail dans un fichier pour conserver vos modifications.** ⚠️ "
   ]
  },
  {
   "cell_type": "markdown",
   "metadata": {
    "pycharm": {
     "name": "#%% md\n"
    }
   },
   "source": [
    "***\n",
    "\n",
    "## Exercice 1.1 - Exécution de cellules ⭐\n",
    "\n",
    "\n",
    "\n",
    "**1)** La cellule ci-dessous est un exemple de code Python exécutable.\n",
    "\n",
    "Placer le curseur dans la cellule et taper `Ctrl+Entrée`. Le code doit s'exécuter et le message `Hello World!` doit s'afficher juste en dessous."
   ]
  },
  {
   "cell_type": "code",
   "execution_count": 8,
   "metadata": {
    "pycharm": {
     "name": "#%%\n"
    }
   },
   "outputs": [
    {
     "name": "stdout",
     "output_type": "stream",
     "text": [
      "Hello World!\n"
     ]
    }
   ],
   "source": [
    "# Exemple de code Python exécutable\n",
    "print(\"Hello World!\")"
   ]
  },
  {
   "cell_type": "markdown",
   "metadata": {
    "pycharm": {
     "name": "#%% md\n"
    }
   },
   "source": [
    "**Explication :**\n",
    "\n",
    "+ La ligne `# Exemple de code Python exécutable` commence par le caractère `#`.\n",
    "Elle est donc ignorée et n'est pas exécutée : il s'agit d'un **commentaire**.\n",
    "+ L'instruction `print(...)` déclenche l'**affichage** de l'expression située \n",
    "entre les parenthèses.\n",
    "+ La valeur affichée est celle de la **chaîne de caractères** délimitée par les \n",
    "doubles guillemets `\"...\"`."
   ]
  },
  {
   "cell_type": "markdown",
   "metadata": {
    "pycharm": {
     "name": "#%% md\n"
    }
   },
   "source": [
    "**2)** Dans le cas où le code réalise un calcul, le résultat obtenu sera affiché \n",
    "en dessous de la cellule suite à son exécution. \n",
    "\n",
    "Le code peut être composé de plusieurs lignes, qui seront toutes exécutées, mais \n",
    "seul le résultat de la dernière ligne sera affiché."
   ]
  },
  {
   "cell_type": "code",
   "execution_count": 9,
   "metadata": {
    "pycharm": {
     "name": "#%%\n"
    }
   },
   "outputs": [
    {
     "name": "stdout",
     "output_type": "stream",
     "text": [
      "Hello...\n"
     ]
    },
    {
     "data": {
      "text/plain": [
       "10821521897576589789666112635269"
      ]
     },
     "execution_count": 9,
     "metadata": {},
     "output_type": "execute_result"
    }
   ],
   "source": [
    "1 + 1\n",
    "2 + 2\n",
    "print(\"Hello...\")\n",
    "1234567987654321 * 8765432123456789"
   ]
  },
  {
   "cell_type": "markdown",
   "metadata": {
    "pycharm": {
     "name": "#%% md\n"
    }
   },
   "source": [
    "**Explication :**\n",
    "\n",
    "- Les résultats des deux premiers calculs ne sont pas affichés\n",
    "- L'instruction `print(...)` demande explicitement l'**affichage** (`Hello...` apparaît donc dans la sortie de la cellule)\n",
    "- Le résultat du **dernier calcul** est lui aussi affiché : c'est la **sortie de la dernière instruction** de la cellule.\n",
    "\n",
    "⚠️ *Ce fonctionnement est **très spécifique au notebook**. On privilégie donc plutôt \n",
    "des affichages explicites utilisant `print`, qui sont de toute façon nécessaires\n",
    "lorsqu'on écrit du code en dehors d'un notebook.*"
   ]
  },
  {
   "cell_type": "markdown",
   "metadata": {},
   "source": [
    "**3)** Avant de lancer l'exécution de la cellule suivante, essayer de deviner\n",
    "ce qu'elle va afficher, puis confirmer en lançant l'exécution."
   ]
  },
  {
   "cell_type": "code",
   "execution_count": 10,
   "metadata": {
    "pycharm": {
     "name": "#%%\n"
    }
   },
   "outputs": [
    {
     "name": "stdout",
     "output_type": "stream",
     "text": [
      "2\n",
      "6\n"
     ]
    },
    {
     "data": {
      "text/plain": [
       "10"
      ]
     },
     "execution_count": 10,
     "metadata": {},
     "output_type": "execute_result"
    }
   ],
   "source": [
    "print(1+1)\n",
    "2+2\n",
    "print(3+3)\n",
    "4+4\n",
    "5+5"
   ]
  },
  {
   "cell_type": "markdown",
   "metadata": {
    "pycharm": {
     "name": "#%% md\n"
    }
   },
   "source": [
    "<details> \n",
    "<summary>Affichage attendu</summary>\n",
    "<tt>2</tt> <i>(obtenu par le <tt>print(1+1)</tt>)</i><br/>\n",
    "<tt>6</tt> <i>(obtenu par le <tt>print(3+3)</tt>)</i><br/>\n",
    "<tt>10</tt> <i>(n'est pas explicitement demandé par un <tt>print</tt>, mais c'est la dernière expression calculée)</i><br/>\n",
    "\n",
    "Les sommes <tt>2+2</tt> et <tt>4+4</tt> sont calculées mais non affichées.\n",
    "</details>"
   ]
  },
  {
   "cell_type": "markdown",
   "metadata": {
    "pycharm": {
     "name": "#%% md\n"
    }
   },
   "source": [
    "**4)** Compléter le code de la cellule ci-dessous de manière à obtenir l'affichage suivant :\n",
    "\n",
    "```\n",
    "Bonjour\n",
    "Au revoir\n",
    "```"
   ]
  },
  {
   "cell_type": "code",
   "execution_count": 11,
   "metadata": {
    "pycharm": {
     "name": "#%%\n"
    }
   },
   "outputs": [
    {
     "name": "stdout",
     "output_type": "stream",
     "text": [
      "Bonjour\n",
      "Au revoir\n"
     ]
    }
   ],
   "source": [
    "# TODO\n",
    "print(\"Bonjour\")\n",
    "print(\"Au revoir\")"
   ]
  },
  {
   "cell_type": "markdown",
   "metadata": {
    "pycharm": {
     "name": "#%% md\n"
    }
   },
   "source": [
    "**5)** Déterminer les trois derniers chiffres de l'entier suivant :\n",
    "\n",
    "$$\\underbrace{123456789 \\times 123456789 \\times \\ldots \\times 123456789}_\\textrm{7 répetitions de 123456789}$$\n",
    "\n",
    "*(Votre calculatrice risque d'avoir un problème... )*"
   ]
  },
  {
   "cell_type": "code",
   "execution_count": 13,
   "metadata": {
    "pycharm": {
     "name": "#%%\n"
    }
   },
   "outputs": [
    {
     "data": {
      "text/plain": [
       "437124189620885610010004822109262358637075660656881926429"
      ]
     },
     "execution_count": 13,
     "metadata": {},
     "output_type": "execute_result"
    }
   ],
   "source": [
    "123456789**7"
   ]
  },
  {
   "cell_type": "markdown",
   "metadata": {
    "pycharm": {
     "name": "#%% md\n"
    }
   },
   "source": [
    "<details> \n",
    "<summary>Résultat attendu</summary>\n",
    "Les trois derniers chiffres de <tt>437124189620885610010004822109262358637075660656881926429</tt> sont <tt>429</tt>\n",
    "</details>"
   ]
  },
  {
   "cell_type": "markdown",
   "metadata": {
    "pycharm": {
     "name": "#%% md\n"
    }
   },
   "source": [
    "***\n",
    "\n",
    "## Exercice 1.2 - Erreurs syntaxiques et sémantiques ⭐\n",
    "\n",
    "**1)** Exécuter le code suivant :"
   ]
  },
  {
   "cell_type": "code",
   "execution_count": 15,
   "metadata": {
    "pycharm": {
     "name": "#%%\n"
    }
   },
   "outputs": [
    {
     "name": "stdout",
     "output_type": "stream",
     "text": [
      "Bonjour\n",
      "Au revoir\n"
     ]
    }
   ],
   "source": [
    "# Exemple d'erreur syntaxique\n",
    "print(\"Bonjour\")\n",
    "#print(1/)\n",
    "print(\"Au revoir\")"
   ]
  },
  {
   "cell_type": "markdown",
   "metadata": {
    "pycharm": {
     "name": "#%% md\n"
    }
   },
   "source": [
    "**Explication :**\n",
    "\n",
    "- Une erreur **erreur syntaxique** est détectée *(ici il manque l'opérande de la division `/`)*\n",
    "- Le code n'est **pas du tout exécuté** : en particulier **la ligne située avant l'erreur syntaxique n'est pas exécutée**.\n",
    "\n",
    "Des cellules présentant des erreurs syntaxiques peuvent dans certains cas perturber \n",
    "la lecture des cellules suivantes.\n",
    "\n",
    "> **Il est donc important de ne pas conserver des erreurs syntaxiques et de \n",
    "s'astreindre à les corriger immédiatement ou à commenter le code fautif.**\n",
    "\n",
    "> **Avant de poursuivre votre lecture**, commencer par commenter avec un `#` la ligne fautive."
   ]
  },
  {
   "cell_type": "markdown",
   "metadata": {
    "pycharm": {
     "name": "#%% md\n"
    }
   },
   "source": [
    "**2)** Exécuter le code suivant :"
   ]
  },
  {
   "cell_type": "code",
   "execution_count": 16,
   "metadata": {
    "pycharm": {
     "name": "#%%\n"
    }
   },
   "outputs": [
    {
     "name": "stdout",
     "output_type": "stream",
     "text": [
      "Bonjour\n"
     ]
    },
    {
     "ename": "ZeroDivisionError",
     "evalue": "division by zero",
     "output_type": "error",
     "traceback": [
      "\u001b[1;31m---------------------------------------------------------------------------\u001b[0m",
      "\u001b[1;31mZeroDivisionError\u001b[0m                         Traceback (most recent call last)",
      "\u001b[1;32m<ipython-input-16-d215dd22248c>\u001b[0m in \u001b[0;36m<module>\u001b[1;34m\u001b[0m\n\u001b[0;32m      1\u001b[0m \u001b[1;31m# Exemple d'erreur sémantique\u001b[0m\u001b[1;33m\u001b[0m\u001b[1;33m\u001b[0m\u001b[1;33m\u001b[0m\u001b[0m\n\u001b[0;32m      2\u001b[0m \u001b[0mprint\u001b[0m\u001b[1;33m(\u001b[0m\u001b[1;34m\"Bonjour\"\u001b[0m\u001b[1;33m)\u001b[0m\u001b[1;33m\u001b[0m\u001b[1;33m\u001b[0m\u001b[0m\n\u001b[1;32m----> 3\u001b[1;33m \u001b[0mprint\u001b[0m\u001b[1;33m(\u001b[0m\u001b[1;36m1\u001b[0m\u001b[1;33m/\u001b[0m\u001b[1;36m0\u001b[0m\u001b[1;33m)\u001b[0m\u001b[1;33m\u001b[0m\u001b[1;33m\u001b[0m\u001b[0m\n\u001b[0m\u001b[0;32m      4\u001b[0m \u001b[0mprint\u001b[0m\u001b[1;33m(\u001b[0m\u001b[1;34m\"Au revoir\"\u001b[0m\u001b[1;33m)\u001b[0m\u001b[1;33m\u001b[0m\u001b[1;33m\u001b[0m\u001b[0m\n",
      "\u001b[1;31mZeroDivisionError\u001b[0m: division by zero"
     ]
    }
   ],
   "source": [
    "# Exemple d'erreur sémantique\n",
    "print(\"Bonjour\")\n",
    "print(1/0)\n",
    "print(\"Au revoir\")"
   ]
  },
  {
   "cell_type": "markdown",
   "metadata": {
    "pycharm": {
     "name": "#%% md\n"
    }
   },
   "source": [
    "**Explication :**\n",
    "\n",
    "- Le code ne présente pas d'erreur syntaxique donc, contrairement à la question **1**,\n",
    "le code commence à s'exécuter.\n",
    "- `Bonjour` est donc bien affiché par le premier `print(...)`.\n",
    "- Une  **erreur sémantique** est rencontrée *(ici une division par `0`)*\n",
    "- L'exécution du code s'interrompt alors et la fin du code n'est pas exécuté.\n",
    "\n",
    "> **⚠️ Important ⚠️** : Vous ferez nécessairement des erreurs, qu'elles soient syntaxiques ou \n",
    "sémantiques, c'est parfaitement normal.\n",
    "\n",
    "Votre travail consiste alors à :\n",
    "\n",
    "+ **lire** les messages d'erreur donnés par l'interpréteur\n",
    "+ les **analyser** pour pouvoir les **corriger**.\n",
    "+ **redemander l'exécution** du code corrigé. "
   ]
  },
  {
   "cell_type": "markdown",
   "metadata": {
    "pycharm": {
     "name": "#%% md\n"
    }
   },
   "source": [
    "**3)** Le code suivant essaie d'afficher 3 lignes de texte. \n",
    "\n",
    "**a)** L'erreur rencontrée est-elle syntaxique ou sémantique ?\n",
    "\n",
    "**b)** Corriger la cellule pour obtenir une exécution sans erreur."
   ]
  },
  {
   "cell_type": "code",
   "execution_count": 20,
   "metadata": {
    "pycharm": {
     "name": "#%%\n"
    }
   },
   "outputs": [
    {
     "name": "stdout",
     "output_type": "stream",
     "text": [
      "Une belle journée\n",
      "Pour corriger du code\n",
      "Qui fait n'importe quoi\n"
     ]
    }
   ],
   "source": [
    "print(\"Une belle journée\")\n",
    "print(\"Pour corriger du code\")\n",
    "print(\"Qui fait n'importe quoi\")"
   ]
  },
  {
   "cell_type": "markdown",
   "metadata": {
    "pycharm": {
     "name": "#%% md\n"
    }
   },
   "source": [
    "**4)** Le code suivant essaie de calculer le rationnel : $$\\frac{80}{3 - \\frac{1}{3 \\times 9}}$$\n",
    "\n",
    "**a)** L'erreur rencontrée est-elle syntaxique ou sémantique ?\n",
    "\n",
    "**b)** Corriger la cellule pour obtenir le résultat correct."
   ]
  },
  {
   "cell_type": "code",
   "execution_count": 23,
   "metadata": {
    "pycharm": {
     "name": "#%%\n"
    }
   },
   "outputs": [
    {
     "name": "stdout",
     "output_type": "stream",
     "text": [
      "27.0\n"
     ]
    }
   ],
   "source": [
    "print(80/(3-1/(3*9)))"
   ]
  },
  {
   "cell_type": "markdown",
   "metadata": {
    "pycharm": {
     "name": "#%% md\n"
    }
   },
   "source": [
    "<details> \n",
    "<summary>Affichage attendu</summary>\n",
    "L'affichage attendu est <tt>27.0</tt> obtenu en parenthésant correctement l'expression :\n",
    "<tt>80/(3-1/(3*9))</tt>\n",
    "</details>"
   ]
  },
  {
   "cell_type": "markdown",
   "metadata": {
    "pycharm": {
     "name": "#%% md\n"
    }
   },
   "source": [
    "***\n",
    "***\n",
    "\n",
    "# 2 - Expressions, affectation, séquence\n",
    "\n",
    "Dans le langage Python on peut stocker la valeur d'une **expression** dans une\n",
    "**variable**.\n",
    "\n",
    "Une **variable** est un *nom* qui identifie un emplacement mémoire dans lequel \n",
    "on peut stocker une valeur. "
   ]
  },
  {
   "cell_type": "markdown",
   "metadata": {
    "pycharm": {
     "name": "#%% md\n"
    }
   },
   "source": [
    "***\n",
    "\n",
    "## Exercice 2.1 - Variables et affectations ⭐\n",
    "\n",
    "**1)** Exécuter le code ci-dessous"
   ]
  },
  {
   "cell_type": "code",
   "execution_count": 24,
   "metadata": {
    "pycharm": {
     "name": "#%%\n"
    }
   },
   "outputs": [
    {
     "name": "stdout",
     "output_type": "stream",
     "text": [
      "24\n"
     ]
    }
   ],
   "source": [
    "toto = 5*(6-3)+9\n",
    "print(toto)"
   ]
  },
  {
   "cell_type": "markdown",
   "metadata": {
    "pycharm": {
     "name": "#%% md\n"
    }
   },
   "source": [
    "**Explication :**\n",
    "\n",
    "+ Le résultat du calcul de l'**expression** `5*(6-3)+9` (c'est-à-dire l'**entier** `24`) est stocké dans la variable dont l'identifiant est `toto`.\n",
    "+ Le contenu de la variable `toto` est affiché grâce à l'instruction `print(...)`.\n",
    "\n",
    "**2)** **Lire** l'exemple ci-dessous **en anticipant** le résultat attendu, puis l'exécuter."
   ]
  },
  {
   "cell_type": "code",
   "execution_count": 25,
   "metadata": {
    "pycharm": {
     "name": "#%%\n"
    }
   },
   "outputs": [
    {
     "name": "stdout",
     "output_type": "stream",
     "text": [
      "8\n",
      "15\n",
      "9\n",
      "14\n"
     ]
    }
   ],
   "source": [
    "a = 3            # ligne 1\n",
    "b = 5            # ligne 2\n",
    "print(a+b)       # ligne 3\n",
    "print(a*b)       # ligne 4\n",
    "c = a * a        # ligne 5\n",
    "print(c)         # ligne 6\n",
    "a = 0            # ligne 7\n",
    "print(c + a + b) # ligne 8"
   ]
  },
  {
   "cell_type": "markdown",
   "metadata": {
    "pycharm": {
     "name": "#%% md\n"
    }
   },
   "source": [
    "**Explication :**\n",
    "- Les lignes `1` et `2` commencent par définir deux variables `a` (dont la valeur est $3$) et `b` (dont la valeur est $5$).  \n",
    "- La ligne `3` affiche le résultat de l'expression `a+b` qui est évaluée à $3 + 5 = 8$.\n",
    "- La ligne `4` affiche ensuite le résultat de l'expression `a*b` qui est évaluée à $3 \\times 5 = 15$.\n",
    "- La ligne `5` définit une nouvelle variable `c`, qui contient `a*a` c'est à dire...$3 \\times 3 = 9$, affiché à la ligne `6`.\n",
    "- À la ligne `7` la variable `a` existe déjà, on vient changer la valeur qu'elle contient, pour remplacer le $3$ par $0$. Les affectations précédentes ne sont pas impactées, ce qui a été calculé précédemment l'a été dans un certain contexte, la modification postérieure de `a` ne vient pas modifier la valeur de `c`.\n",
    "- À la ligne `8`, la variable `c` a toujours pour valeur $9$, `a` a pour valeur $0$, et `b` n'a jamais changé et a pour valeur $5$. L'affichage obtenu est donc $9+0+5 = 14$.\n",
    "\n"
   ]
  },
  {
   "cell_type": "markdown",
   "metadata": {
    "pycharm": {
     "name": "#%% md\n"
    }
   },
   "source": [
    "***\n",
    "\n",
    "## Exercice 2.2 - Ordre d'exécution ⭐\n",
    "\n",
    "Le code ci-dessous ne s'exécute pas correctement :\n",
    "\n",
    "```python\n",
    "y = y - 1\n",
    "y = 2 * x\n",
    "x = x + 3 * y\n",
    "x = 7\n",
    "```\n",
    "**1)** Analyser les raisons pour lesquelles il ne peut pas s'exécuter.\n",
    "\n",
    "**2)** Le copier dans la cellule ci-dessous et remettre ses lignes dans l'ordre de sorte qu'à la fin $x$ contienne la valeur $46$."
   ]
  },
  {
   "cell_type": "code",
   "execution_count": 27,
   "metadata": {
    "pycharm": {
     "name": "#%%\n"
    }
   },
   "outputs": [
    {
     "name": "stdout",
     "output_type": "stream",
     "text": [
      "46\n"
     ]
    }
   ],
   "source": [
    "# TODO\n",
    "x = 7\n",
    "y = 2 * x\n",
    "y = y - 1\n",
    "x = x + 3 * y\n",
    "print(x)"
   ]
  },
  {
   "cell_type": "markdown",
   "metadata": {
    "pycharm": {
     "name": "#%% md\n"
    }
   },
   "source": [
    "***\n",
    "\n",
    "## Exercice 2.3 - Nommage des variables ⭐\n",
    "\n",
    "Le code suivant a pour ambition de calculer l'aire d'un triangle, dont on connait la longueur d'une base et la hauteur correspondante.\n",
    "\n",
    "```python\n",
    "Base = 8\n",
    "hauteur = 3\n",
    "aire = base_triangle * hauteur__triangle / 2\n",
    "print(Aire)\n",
    "```\n",
    "\n",
    "**1)** Analyser les raisons pour lesquelles il échoue à atteindre son objectif.\n",
    "\n",
    "**2)** Le copier dans la cellule ci-dessous et le corriger pour qu'il se comporte correctement."
   ]
  },
  {
   "cell_type": "code",
   "execution_count": 30,
   "metadata": {
    "pycharm": {
     "name": "#%%\n"
    }
   },
   "outputs": [
    {
     "name": "stdout",
     "output_type": "stream",
     "text": [
      "12.0\n"
     ]
    }
   ],
   "source": [
    "# TODO\n",
    "base_triangle = 8\n",
    "hauteur_triangle = 3\n",
    "aire = base_triangle * hauteur_triangle / 2\n",
    "print(aire)"
   ]
  },
  {
   "cell_type": "markdown",
   "metadata": {
    "pycharm": {
     "name": "#%% md\n"
    }
   },
   "source": [
    "<details> \n",
    "<summary>Affichage attendu</summary>\n",
    "12\n",
    "</details>\n",
    "\n",
    "> **⚠️ IMPORTANT ⚠️**\n",
    "\n",
    "> Il est très important de donner un **nom clair et précis** aux variables.\n",
    "\n",
    "> Python distingue **les majuscules et les minuscules** : `mavariable`, `Mavariable` et `MAVARIABLE` sont des variables différentes."
   ]
  },
  {
   "cell_type": "markdown",
   "metadata": {
    "pycharm": {
     "name": "#%% md\n"
    }
   },
   "source": [
    "***\n",
    "\n",
    "## Exercice 2.4 - Analyse avec PythonTutor ⭐\n",
    "\n",
    "**1)** Lire le code suivant et essayer de **prévoir l'affichage** qu'il va produire. Vérifier en exécutant le code."
   ]
  },
  {
   "cell_type": "code",
   "execution_count": 31,
   "metadata": {
    "pycharm": {
     "name": "#%%\n"
    }
   },
   "outputs": [
    {
     "name": "stdout",
     "output_type": "stream",
     "text": [
      "toto vaut : 10\n",
      "tata vaut : 8\n"
     ]
    }
   ],
   "source": [
    "toto = 6\n",
    "tata = 2+toto\n",
    "toto = tata+2\n",
    "print(\"toto vaut :\",toto)\n",
    "print(\"tata vaut :\",tata)"
   ]
  },
  {
   "cell_type": "markdown",
   "metadata": {
    "pycharm": {
     "name": "#%% md\n"
    }
   },
   "source": [
    "**2)** Visualiser l'exécution du code sous [PythonTutor](https://pythontutor.com/visualize.html#code=toto%20%3D%206%0Atata%20%3D%202%2Btoto%0Atoto%20%3D%20tata%2B2%0Aprint%28%22toto%20vaut%20%3A%22%2Ctoto%29%0Aprint%28%22tata%20vaut%20%3A%22%2Ctata%29) \n",
    "afin d'observer les valeurs des différentes variables au fur et à mesure de \n",
    "l'exécution. "
   ]
  },
  {
   "cell_type": "markdown",
   "metadata": {
    "pycharm": {
     "name": "#%% md\n"
    }
   },
   "source": [
    "***\n",
    "\n",
    "## Exercice 2.5 - Application ⭐\n",
    "\n",
    "Le code suivant :\n",
    "```python\n",
    "S = 1000\n",
    "print(S)\n",
    "S = S + 100\n",
    "print(S)\n",
    "S = S + 200\n",
    "print(S)\n",
    "```\n",
    "correspond à l'affichage jour par jour de l'évolution d'un compte en banque \n",
    "décrite par les opérations suivantes :\n",
    "\n",
    "- Au départ, J+0, le compte est crédité de 1000€. \n",
    "- A J+1, on gagne 100€. \n",
    "- A J+2, on gagne 200€. \n",
    "\n",
    "**Recopier le code dans la cellule ci-dessous et le modifier** afin de s'adapter \n",
    "à l'évolution suivante :\n",
    "\n",
    "- Au départ, J+0, le compte est initialisé à 0€. \n",
    "- A J+1, on gagne 100€. \n",
    "- A J+2, on double le solde.\n",
    "- A J+3, on gagne 200€.\n",
    "- A J+4, on perd 50€.\n",
    "- A J+5, on divise le solde par 5."
   ]
  },
  {
   "cell_type": "code",
   "execution_count": 34,
   "metadata": {
    "pycharm": {
     "name": "#%%\n"
    }
   },
   "outputs": [
    {
     "name": "stdout",
     "output_type": "stream",
     "text": [
      "0\n",
      "100\n",
      "200\n",
      "400\n",
      "350\n",
      "70.0\n"
     ]
    }
   ],
   "source": [
    "# TODO\n",
    "s = 0\n",
    "print(s)\n",
    "s = s + 100\n",
    "print(s)\n",
    "s = s*2\n",
    "print(s)\n",
    "s = s + 200\n",
    "print(s)\n",
    "s = s - 50\n",
    "print(s)\n",
    "s = s/5\n",
    "print(s)"
   ]
  },
  {
   "cell_type": "markdown",
   "metadata": {
    "pycharm": {
     "name": "#%% md\n"
    }
   },
   "source": [
    "<details> \n",
    "<summary>Affichage attendu</summary>\n",
    "<pre>0\n",
    "100\n",
    "200\n",
    "400\n",
    "350\n",
    "70.0</pre>\n",
    "</details>\n",
    "\n",
    "**Remarques :** \n",
    "\n",
    "- Si l'on change le solde de départ ou le montant d'une des transactions, on **ne modifie le code qu'à un seul endroit**\n",
    "- Il faut cependant **relancer l'exécution** de la cellule pour que le résultat soit mis à jour."
   ]
  },
  {
   "cell_type": "markdown",
   "metadata": {
    "pycharm": {
     "name": "#%% md\n"
    }
   },
   "source": [
    "***\n",
    "***\n",
    "\n",
    "# 3 - Types, opérations\n",
    "\n",
    "Toutes les expressions, les parties d'expressions ont un **type** et une **valeur**.\n",
    "\n",
    "**Selon le type** d'une expression, on peut effectuer **différentes opérations**."
   ]
  },
  {
   "cell_type": "markdown",
   "metadata": {
    "pycharm": {
     "name": "#%% md\n"
    }
   },
   "source": [
    "***\n",
    "\n",
    "## Exercice 3.1 - Types numériques `int` et `float` ⭐\n",
    "\n",
    "**1)** Exécuter le code suivant :"
   ]
  },
  {
   "cell_type": "code",
   "execution_count": null,
   "metadata": {
    "pycharm": {
     "name": "#%%\n"
    }
   },
   "outputs": [],
   "source": [
    "a = 7\n",
    "b = 7/2\n",
    "c = 7//2\n",
    "print(\"a\",type(a),a)\n",
    "print(\"b\",type(b),b)\n",
    "print(\"c\",type(c),c)"
   ]
  },
  {
   "cell_type": "markdown",
   "metadata": {
    "pycharm": {
     "name": "#%% md\n"
    }
   },
   "source": [
    "*Visualiser l'exécution du code sous [PythonTutor](https://pythontutor.com/visualize.html#code=a%20%3D%207%0Ab%20%3D%207/2%0Ac%20%3D%207//2%0Aprint%28%22a%22%2Ctype%28a%29%2Ca%29%0Aprint%28%22b%22%2Ctype%28b%29%2Cb%29%0Aprint%28%22c%22%2Ctype%28c%29%2Cc%29)*\n",
    "\n",
    "**Explication :**\n",
    "\n",
    "+ L'expression `type(a)` a pour valeur le **type** de la variable `a`, ici du type entier (`int`)\n",
    "+ La variable `b` contient un nombre flottant (`float`) qui vaut `3.5` : l'opération `/` retourne un résultat de type `float`\n",
    "+ La variable `c` contient un nombre entier (`int`) qui vaut `3` : l'opération `//` retourne le résultat de la division euclidienne (de type `int`).\n",
    "\n",
    "**2)** Pour chacune des expressions suivantes, prédire son **type** et sa **valeur** :\n",
    "+ `7+9-3`\n",
    "+ `7+9-3/1`\n",
    "+ `7+9/3`\n",
    "+ `7+9-3//1`\n",
    "+ `7+9//3`\n",
    "+ `(7**0.5)**2`\n",
    "+ `(4**0.5)**2`\n",
    "+ `4**2`\n",
    "\n",
    "**3)** Vérifier les types et valeurs en complétant la cellule de code suivante avec les affichages adéquats :"
   ]
  },
  {
   "cell_type": "code",
   "execution_count": 35,
   "metadata": {
    "pycharm": {
     "name": "#%%\n"
    }
   },
   "outputs": [
    {
     "name": "stdout",
     "output_type": "stream",
     "text": [
      "a <class 'int'> 13\n",
      "b <class 'float'> 13.0\n",
      "c <class 'float'> 10.0\n",
      "a <class 'int'> 13\n",
      "b <class 'int'> 10\n",
      "c <class 'float'> 7.000000000000001\n",
      "a <class 'float'> 4.0\n",
      "b <class 'int'> 16\n"
     ]
    }
   ],
   "source": [
    "# TODO\n",
    "a=7+9-3\n",
    "b=7+9-3/1\n",
    "c=7+9/3\n",
    "d=7+9-3//1\n",
    "e=7+9//3\n",
    "f=(7**0.5)**2\n",
    "g=(4**0.5)**2\n",
    "h=4**2\n",
    "print(\"a\",type(a),a)\n",
    "print(\"b\",type(b),b)\n",
    "print(\"c\",type(c),c)\n",
    "print(\"a\",type(d),d)\n",
    "print(\"b\",type(e),e)\n",
    "print(\"c\",type(f),f)\n",
    "print(\"a\",type(g),g)\n",
    "print(\"b\",type(h),h)"
   ]
  },
  {
   "cell_type": "markdown",
   "metadata": {
    "pycharm": {
     "name": "#%% md\n"
    }
   },
   "source": [
    "***\n",
    "\n",
    "## Exercice 3.2 - Celsius et Farenheit ⭐\n",
    "\n",
    "Étant donnée une température $T_F$ donnée en degrés Farenheit, la température \n",
    "$T_C$ en degrés Celsius s'obtient grâce à la formule :\n",
    "\n",
    "$$T_C = \\frac{5}{9} (T_F - 32)$$\n",
    "\n",
    "En particulier un température $T_F = 212 °F$ équivaut à une température $T_C = 100 °C$\n",
    "\n",
    "Le code suivant tente de réaliser cette conversion et d'afficher le résultat :"
   ]
  },
  {
   "cell_type": "code",
   "execution_count": 36,
   "metadata": {
    "pycharm": {
     "name": "#%%\n"
    }
   },
   "outputs": [
    {
     "name": "stdout",
     "output_type": "stream",
     "text": [
      "T_F = 212 °F\n",
      "T_C = 0 °C\n"
     ]
    }
   ],
   "source": [
    "T_F = 212\n",
    "T_C = 5//9*(T_F-32)\n",
    "print(\"T_F =\",T_F,\"°F\")\n",
    "print(\"T_C =\",T_C,\"°C\")"
   ]
  },
  {
   "cell_type": "markdown",
   "metadata": {
    "pycharm": {
     "name": "#%% md\n"
    }
   },
   "source": [
    "On remarque que le résultat affiché est incorrect.\n",
    "\n",
    "**1)** Dans le cadre ci-dessous, recopier le code précédent et le corriger afin d'obtenir le bon résultat :"
   ]
  },
  {
   "cell_type": "code",
   "execution_count": 37,
   "metadata": {
    "pycharm": {
     "name": "#%%\n"
    }
   },
   "outputs": [
    {
     "name": "stdout",
     "output_type": "stream",
     "text": [
      "T_F = 212 °F\n",
      "T_C = 100.0 °C\n"
     ]
    }
   ],
   "source": [
    "# TODO\n",
    "T_F = 212\n",
    "T_C = 5/9*(T_F-32)\n",
    "print(\"T_F =\",T_F,\"°F\")\n",
    "print(\"T_C =\",T_C,\"°C\")"
   ]
  },
  {
   "cell_type": "markdown",
   "metadata": {
    "pycharm": {
     "name": "#%% md\n"
    }
   },
   "source": [
    "**2)** Si ce n'est pas déjà le cas, modifier le code précédent de telle sorte \n",
    "qu'aucune variable, expression ou sous-expression ne soit un nombre flottant."
   ]
  },
  {
   "cell_type": "markdown",
   "metadata": {
    "pycharm": {
     "name": "#%% md\n"
    }
   },
   "source": [
    "***\n",
    "\n",
    "## Exercice 3.3 - Type `str` ⭐\n",
    "\n",
    "**1)** Exécuter le code suivant :"
   ]
  },
  {
   "cell_type": "code",
   "execution_count": 38,
   "metadata": {
    "pycharm": {
     "name": "#%%\n"
    }
   },
   "outputs": [
    {
     "name": "stdout",
     "output_type": "stream",
     "text": [
      "a <class 'str'> 12345\n",
      "b <class 'str'> 678\n",
      "c <class 'str'> 910\n",
      "d <class 'str'> 12345678910\n",
      "e <class 'str'> 12345123451234512345123451234512345123451234512345\n"
     ]
    }
   ],
   "source": [
    "a = \"12345\"\n",
    "b = \"678\"\n",
    "c = str(910)\n",
    "d = a+b+c\n",
    "e = a*10\n",
    "print(\"a\",type(a),a)\n",
    "print(\"b\",type(b),b)\n",
    "print(\"c\",type(c),c)\n",
    "print(\"d\",type(d),d)\n",
    "print(\"e\",type(e),e)"
   ]
  },
  {
   "cell_type": "markdown",
   "metadata": {
    "pycharm": {
     "name": "#%% md\n"
    }
   },
   "source": [
    "*Visualiser l'exécution du code sous [PythonTutor](https://pythontutor.com/visualize.html#code=a%20%3D%20%2212345%22%0Ab%20%3D%20%22678%22%0Ac%20%3D%20str%28910%29%0Ad%20%3D%20a%2Bb%2Bc%0Ae%20%3D%20a%2A10%0Aprint%28%22a%22%2Ctype%28a%29%2Ca%29%0Aprint%28%22b%22%2Ctype%28b%29%2Cb%29%0Aprint%28%22c%22%2Ctype%28c%29%2Cc%29%0Aprint%28%22d%22%2Ctype%28d%29%2Cd%29%0Aprint%28%22e%22%2Ctype%28e%29%2Ce%29)*\n",
    "\n",
    "**Explication :**\n",
    "\n",
    "+ Les variables `a` et `b` ne contiennent pas des entiers mais des **chaînes de caractères** (de type `str`)\n",
    "+ L'instruction `str(...)` permet de **convertir** une variable numérique en chaîne de caractères. La variable `c` contient donc la chaîne de caractères `\"910\"`.\n",
    "+ L'opération `+` entre **deux chaînes de caractères** n'est pas une addition mais une **concaténation**.\n",
    "+ L'opération `*` entre **une chaîne de caractères et un entier** permet une **duplication** de la chaîne.\n",
    "+ Les variables `c` et `d` sont aussi des chaînes de caractères."
   ]
  },
  {
   "cell_type": "markdown",
   "metadata": {
    "pycharm": {
     "name": "#%% md\n"
    }
   },
   "source": [
    "**2)** En utilisant correctement les opérations `+` et `*` et **sans créer de nouvelle chaîne de caractères** avec des délimiteurs `\"...\"`, parvenir aux 4 affichages suivants :\n",
    "```\n",
    "||||||||||\n",
    "<->|<->|<->|<->|<->|\n",
    "|<->|<->|<->|<->|<->|\n",
    "<->|<->|<->|<->|<->|<->\n",
    "```"
   ]
  },
  {
   "cell_type": "code",
   "execution_count": 48,
   "metadata": {
    "pycharm": {
     "name": "#%%\n"
    }
   },
   "outputs": [
    {
     "name": "stdout",
     "output_type": "stream",
     "text": [
      "||||||||||\n",
      "<->|<->|<->|<->|<->|\n",
      "|<->|<->|<->|<->|<->|\n",
      "<->|<->|<->|<->|<->|<->\n"
     ]
    }
   ],
   "source": [
    "a = \"<->\"\n",
    "b = \"|\"\n",
    "print(b*10) # solution du premier motif\n",
    "print((a+b)*5)\n",
    "print((b+a)*5+b)\n",
    "print((a+b)*5+a)"
   ]
  },
  {
   "cell_type": "markdown",
   "metadata": {
    "pycharm": {
     "name": "#%% md\n"
    }
   },
   "source": [
    "**3)** On considère le code suivant :\n",
    "```python\n",
    "a = \"Résultat : \"\n",
    "b = 13**252\n",
    "c = a+b\n",
    "print(c)\n",
    "```\n",
    "**a)** Expliquer pourquoi ce code ne s'exécute pas correctement.\n",
    "\n",
    "**b) Recopier ce code** dans la cellule ci-dessous et ne modifier **que la ligne `c = ...`** de façon que la chaîne `c` contiennent effectivement `\"Résultat : \"` suivi de la valeur de `b`."
   ]
  },
  {
   "cell_type": "code",
   "execution_count": 50,
   "metadata": {
    "pycharm": {
     "name": "#%%\n"
    }
   },
   "outputs": [
    {
     "name": "stdout",
     "output_type": "stream",
     "text": [
      "Résultat : 51727892094751095398649095767833497181982816056380387640162410796636130835208984435184411299107836702677278822596685797222633178681811729603809417663817929310185215269500197123173776515352642287418252805892064765268903858153138262382414433914413894109474010788440574633278707316081\n"
     ]
    }
   ],
   "source": [
    "# TODO\n",
    "a = \"Résultat : \"\n",
    "b = 13**252\n",
    "c = a+str(b)\n",
    "print(c)"
   ]
  },
  {
   "cell_type": "markdown",
   "metadata": {
    "pycharm": {
     "name": "#%% md\n"
    }
   },
   "source": [
    "**4)** Dans le code ci-dessous, modifier **uniquement la ligne `c = ...`** de \n",
    "manière à afficher **sous la forme d'une chaîne de caractères** le calcul de \n",
    "l'opération de multiplication de `a` par `b` avec son résultat.\n",
    "\n",
    "**Exemples :**\n",
    "\n",
    "- Si `a` et `b` valent respectivement `5` et `6` l'affichage doit être \n",
    "**exactement** : `5 x 6 = 30`.\n",
    "- Si ensuite on modifie **uniquement** les valeurs de `a` et `b` respectivement \n",
    "à `7` et `9` l'affichage doit être **exactement** : `7 x 9 = 63`"
   ]
  },
  {
   "cell_type": "code",
   "execution_count": 53,
   "metadata": {
    "pycharm": {
     "name": "#%%\n"
    }
   },
   "outputs": [
    {
     "name": "stdout",
     "output_type": "stream",
     "text": [
      "30\n"
     ]
    }
   ],
   "source": [
    "a = 5\n",
    "b = 6\n",
    "c = a*b\n",
    "print(c)"
   ]
  },
  {
   "cell_type": "markdown",
   "metadata": {
    "pycharm": {
     "name": "#%% md\n"
    }
   },
   "source": [
    "***\n",
    "***\n",
    "\n",
    "# 4 - Entrées / Sorties"
   ]
  },
  {
   "cell_type": "markdown",
   "metadata": {
    "pycharm": {
     "name": "#%% md\n"
    }
   },
   "source": [
    "***\n",
    "\n",
    "## Exercice 4.1 - `input(...)` ⭐\n",
    "\n",
    "**1)** On considère le code suivant :"
   ]
  },
  {
   "cell_type": "code",
   "execution_count": 54,
   "metadata": {
    "pycharm": {
     "name": "#%%\n"
    }
   },
   "outputs": [
    {
     "name": "stdout",
     "output_type": "stream",
     "text": [
      "Première entréeabc\n",
      "Seconde entréedef\n",
      "abcdef\n"
     ]
    }
   ],
   "source": [
    "a = input('Première entrée')\n",
    "b = input('Seconde entrée')\n",
    "c = a+b\n",
    "print(c)\n"
   ]
  },
  {
   "cell_type": "markdown",
   "metadata": {
    "pycharm": {
     "name": "#%% md\n"
    }
   },
   "source": [
    "*Visualiser l'exécution du code sous [PythonTutor](https://pythontutor.com/visualize.html#code=a%20%3D%20input%28%27Premi%C3%A8re%20entr%C3%A9e%27%29%0Ab%20%3D%20input%28%27Seconde%20entr%C3%A9e%27%29%0Ac%20%3D%20a%2Bb%0Aprint%28c%29%0A)*\n",
    "\n",
    "L'exécuter pour les couples d'entrées suivantes :\n",
    "\n",
    "+ `abc` (première entrée) et `def` (seconde entrée)\n",
    "+ `10` (première entrée) et `26` (seconde entrée)\n",
    "\n",
    "**a)** Le résultat est-il celui attendu?\n",
    "\n",
    "**b)** Que peut-on en déduire pour le type des variables `a` et `b`? \n",
    "\n",
    "**c)** Vérifier en affichant le type de `a` et `b`."
   ]
  },
  {
   "cell_type": "markdown",
   "metadata": {
    "pycharm": {
     "name": "#%% md\n"
    }
   },
   "source": [
    "**2)** Recopier le code précédent dans la cellule ci-dessous :"
   ]
  },
  {
   "cell_type": "code",
   "execution_count": 56,
   "metadata": {
    "pycharm": {
     "name": "#%%\n"
    }
   },
   "outputs": [
    {
     "name": "stdout",
     "output_type": "stream",
     "text": [
      "Première entrée 10\n",
      "Seconde entrée 20\n",
      "30\n"
     ]
    }
   ],
   "source": [
    "# TODO\n",
    "a = int(input('Première entrée '))\n",
    "b = int(input('Seconde entrée '))\n",
    "c = a+b\n",
    "print(c)\n"
   ]
  },
  {
   "cell_type": "markdown",
   "metadata": {
    "pycharm": {
     "name": "#%% md\n"
    }
   },
   "source": [
    "Modifier les instructions `... = input(...)` en `... = int(input(...))` puis exécuter le code pour les couples d'entrées suivantes :\n",
    "\n",
    "+ `abc` (première entrée) et `def` (seconde entrée)\n",
    "+ `10` (première entrée) et `26` (seconde entrée)\n",
    "\n",
    "Le résultat est-il celui attendu? Vérifier en affichant le type des variables `a`, `b` et `c`."
   ]
  },
  {
   "cell_type": "markdown",
   "metadata": {
    "pycharm": {
     "name": "#%% md\n"
    }
   },
   "source": [
    "**3)** Recopier le code précédent dans la cellule ci-dessous, modifier les instructions `... = int(input(...))` en `... = float(input(...))` puis exécuter le code pour les mêmes couples d'entrées que précédemment :"
   ]
  },
  {
   "cell_type": "code",
   "execution_count": 57,
   "metadata": {
    "pycharm": {
     "name": "#%%\n"
    }
   },
   "outputs": [
    {
     "name": "stdout",
     "output_type": "stream",
     "text": [
      "Première entrée 10\n",
      "Seconde entrée 26\n",
      "36.0\n"
     ]
    }
   ],
   "source": [
    "# TODO\n",
    "a = float(input('Première entrée '))\n",
    "b = float(input('Seconde entrée '))\n",
    "c = a+b\n",
    "print(c)"
   ]
  },
  {
   "cell_type": "markdown",
   "metadata": {
    "pycharm": {
     "name": "#%% md\n"
    }
   },
   "source": [
    "***\n",
    "\n",
    "## Exercice 4.2 - `print(...)` ⭐\n",
    "\n",
    "**1)** Exécuter le code suivant :"
   ]
  },
  {
   "cell_type": "code",
   "execution_count": 58,
   "metadata": {
    "pycharm": {
     "name": "#%%\n"
    }
   },
   "outputs": [
    {
     "name": "stdout",
     "output_type": "stream",
     "text": [
      "5 x 6 = 30\n",
      "5x6=30\n",
      "5~~~x~~~6~~~=~~~30\n",
      "5x6=30"
     ]
    }
   ],
   "source": [
    "a = 5\n",
    "b = 6\n",
    "print(a,'x',b,'=',a*b)\n",
    "print(a,'x',b,'=',a*b,sep='')\n",
    "print(a,'x',b,'=',a*b,sep='~~~')\n",
    "print(a,end='')\n",
    "print('x',end='')\n",
    "print(b,end='')\n",
    "print('=',end='')\n",
    "print(a*b,end='')"
   ]
  },
  {
   "cell_type": "markdown",
   "metadata": {
    "pycharm": {
     "name": "#%% md\n"
    }
   },
   "source": [
    "*Visualiser l'exécution du code sous [PythonTutor](https://pythontutor.com/visualize.html#code=a%20%3D%205%0Ab%20%3D%206%0Aprint%28a%2C%27x%27%2Cb%2C%27%3D%27%2Ca%2Ab%29%0Aprint%28a%2C%27x%27%2Cb%2C%27%3D%27%2Ca%2Ab%2Csep%3D%27%27%29%0Aprint%28a%2C%27x%27%2Cb%2C%27%3D%27%2Ca%2Ab%2Csep%3D%27~~~%27%29%0Aprint%28a%2Cend%3D%27%27%29%0Aprint%28%27x%27%2Cend%3D%27%27%29%0Aprint%28b%2Cend%3D%27%27%29%0Aprint%28%27%3D%27%2Cend%3D%27%27%29%0Aprint%28a%2Ab%2Cend%3D%27%27%29)*\n",
    "\n",
    "**Explication :**\n",
    "\n",
    "+ Les différents paramètres séparés par des virgules dans l'instruction `print(...,...,...)` sont afffichés sur la même ligne, **séparés par des espaces** (comportement par défaut)\n",
    "+ Le paramètre additionnel `sep=...` permet de modifier ce comportement par défaut en précisant la chaîne de caractères à afficher entre chaque paramètre.\n",
    "+ Le paramètre additionnel `end=...` permet de modifier le caractère affiché en fin de ligne. Par défaut ce caractère est `'\\n'` c'est-à-dire le caractère spécial de **retour à la ligne**. L'ajout du paramètre `end=''` permet de ne pas retourner à la ligne entre deux affichages."
   ]
  },
  {
   "cell_type": "markdown",
   "metadata": {
    "pycharm": {
     "name": "#%% md\n"
    }
   },
   "source": [
    "**2)** Le code suivant :\n",
    "\n",
    "```python\n",
    "print(\"Lors des courses\")\n",
    "print(\"il faudra acheter\")\n",
    "print(\"des pommes\",\"des poires\")\n",
    "print(\"des scoubidous\")\n",
    "```\n",
    "\n",
    "génère l'affichage suivant :\n",
    "\n",
    "```\n",
    "Lors des courses\n",
    "il faudra acheter\n",
    "des pommes des poires\n",
    "des scoubidous\n",
    "```\n",
    "\n",
    "Recopier ce code dans le cadre ci-dessous et le modifier afin d'obtenir l'affichage suivant :\n",
    "\n",
    "`Lors des courses, il faudra acheter : des pommes, des poires et des scoubidous.`\n",
    "\n",
    "**Contraintes :**\n",
    "\n",
    "+ Le résultat doit être **exact au caractère près** (ponctuation **et** espaces).\n",
    "+ Les **seules modifications autorisées** sont des **ajouts de paramètres supplémentaires** `end` et `sep` judicieusement choisis."
   ]
  },
  {
   "cell_type": "code",
   "execution_count": 61,
   "metadata": {
    "pycharm": {
     "name": "#%%\n"
    }
   },
   "outputs": [
    {
     "name": "stdout",
     "output_type": "stream",
     "text": [
      "Lors des courses, il faudra acheter : des pommes des poires et des scoubidous."
     ]
    }
   ],
   "source": [
    "print(\"Lors des courses\",end=', ')\n",
    "print(\"il faudra acheter\",end=' : ')\n",
    "print(\"des pommes\",\"des poires\",end= ' et ')\n",
    "print(\"des scoubidous\",end = '.')"
   ]
  },
  {
   "cell_type": "markdown",
   "metadata": {
    "pycharm": {
     "name": "#%% md\n"
    }
   },
   "source": [
    "***\n",
    "\n",
    "## Exercice 4.3 - Premiers petits programmes ⭐\n",
    "\n",
    "**1)** Exécuter le code suivant :"
   ]
  },
  {
   "cell_type": "code",
   "execution_count": 62,
   "metadata": {
    "pycharm": {
     "name": "#%%\n"
    }
   },
   "outputs": [
    {
     "name": "stdout",
     "output_type": "stream",
     "text": [
      "a =10\n",
      "b =10\n",
      "a = 10\n",
      "b = 10\n",
      "q = 1\n",
      "r = 0\n"
     ]
    }
   ],
   "source": [
    "a = int(input('a ='))\n",
    "b = int(input('b ='))\n",
    "print(\"a =\",a)\n",
    "print(\"b =\",b)\n",
    "print(\"q =\",a//b)\n",
    "print(\"r =\",a%b)"
   ]
  },
  {
   "cell_type": "markdown",
   "metadata": {
    "pycharm": {
     "name": "#%% md\n"
    }
   },
   "source": [
    "*Visualiser l'exécution du code sous [PythonTutor](https://pythontutor.com/visualize.html#code=a%20%3D%20int%28input%28%27a%20%3D%27%29%29%0Ab%20%3D%20int%28input%28%27b%20%3D%27%29%29%0Aprint%28%22a%20%3D%22%2Ca%29%0Aprint%28%22b%20%3D%22%2Cb%29%0Aprint%28%22q%20%3D%22%2Ca//b%29%0Aprint%28%22r%20%3D%22%2Ca%25b%29)*\n",
    "\n",
    "**2)** En s'inspirant du code précédent, écrire dans la cellule ci-dessous un code qui demande à l'utilisateur trois **nombres entiers** `x`, `y` et `z` et calcule et affiche leur **somme** et leur **produit**."
   ]
  },
  {
   "cell_type": "code",
   "execution_count": 64,
   "metadata": {
    "pycharm": {
     "name": "#%%\n"
    }
   },
   "outputs": [
    {
     "name": "stdout",
     "output_type": "stream",
     "text": [
      "a = 7\n",
      "b = 4\n",
      "c = 15\n",
      "S =  26\n",
      "X =  420\n"
     ]
    }
   ],
   "source": [
    "# TODO\n",
    "a = int(input('a = '))\n",
    "b = int(input('b = '))\n",
    "c = int(input('c = '))\n",
    "print(\"S = \",a+b+c)\n",
    "print(\"X = \",a*b*c)"
   ]
  },
  {
   "cell_type": "markdown",
   "metadata": {
    "pycharm": {
     "name": "#%% md\n"
    }
   },
   "source": [
    "**Indication :** Vérifier que lorsque les entrées sont respectivement `7`, `4` et `15`, la somme obtenue doit être `26` et le produit `420`."
   ]
  },
  {
   "cell_type": "markdown",
   "metadata": {
    "pycharm": {
     "name": "#%% md\n"
    }
   },
   "source": [
    "**3)** En s'inspirant du code précédent, écrire dans la cellule ci-dessous un code qui demande à l'utilisateur deux **nombres entiers** `a` et `b` et calcule une valeur approchée `x` de la solution $x$ de l'équation $a x + b = 0$.\n",
    "\n",
    "**Indication :**  On supposera sans le vérifier que l'utilisateur donne un entier `a` non nul.\n",
    "\n"
   ]
  },
  {
   "cell_type": "code",
   "execution_count": null,
   "metadata": {
    "pycharm": {
     "name": "#%%\n"
    }
   },
   "outputs": [],
   "source": [
    "# TODO\n",
    "a = int(input('a = '))\n",
    "b = int(input('b = '))\n",
    "print()"
   ]
  },
  {
   "cell_type": "markdown",
   "metadata": {
    "pycharm": {
     "name": "#%% md\n"
    }
   },
   "source": [
    "***\n",
    "\n",
    "## Exercice 4.4 - Lancer de dés 🎲⭐\n",
    "\n",
    "**1)** Le code suivant permet de générer un entier `de` aléatoirement entre `1` et `6` :"
   ]
  },
  {
   "cell_type": "code",
   "execution_count": null,
   "metadata": {
    "pycharm": {
     "name": "#%%\n"
    }
   },
   "outputs": [],
   "source": [
    "from random import randint\n",
    "\n",
    "de = randint(1,6)\n",
    "print(\"Lancer de dé :\",de)"
   ]
  },
  {
   "cell_type": "markdown",
   "metadata": {
    "pycharm": {
     "name": "#%% md\n"
    }
   },
   "source": [
    "⚠️ *Sous PythonTutor, le nombre aléatoire généré est toujours le même, donc la visualisation avec cet outil n'est pas pertinente ici.*\n",
    "\n",
    "**2)** Recopier le code précédent dans la cellule ci-dessous et le modifier afin de :\n",
    "\n",
    "+ Réaliser deux lancers.\n",
    "+ Afficher le résultat de chacun des dés.\n",
    "+ Afficher la somme des valeurs obtenues.\n",
    "\n",
    "**Exemple d'affichage :**\n",
    "```\n",
    "Dés : 3 5\n",
    "Somme : 8\n",
    "```"
   ]
  },
  {
   "cell_type": "code",
   "execution_count": 74,
   "metadata": {
    "pycharm": {
     "name": "#%%\n"
    }
   },
   "outputs": [
    {
     "name": "stdout",
     "output_type": "stream",
     "text": [
      "nb face de lancé?3\n",
      "Dés : 3 1\n",
      "Somme : 4\n"
     ]
    }
   ],
   "source": [
    "# TODO\n",
    "from random import randint\n",
    "\n",
    "nb_lance = int(input(\"nb face de lancé? \"))\n",
    "de = randint(1,nb_lance)\n",
    "des = randint(1,nb_lance)\n",
    "print(\"Dés :\",de, des)\n",
    "print(\"Somme :\",de+des)"
   ]
  },
  {
   "cell_type": "markdown",
   "metadata": {
    "pycharm": {
     "name": "#%% md\n"
    }
   },
   "source": [
    "**3)** Modifier le code précédent afin de permettre à l'utilisateur de choisir le nombre de faces du dé lancé."
   ]
  },
  {
   "cell_type": "markdown",
   "metadata": {
    "pycharm": {
     "name": "#%% md\n"
    }
   },
   "source": [
    "***\n",
    "\n",
    "## Exercice 4.5 : discriminant d'un trinôme ⭐⭐\n",
    "\n",
    "En vous inspirant des codes précédents, écrire dans la cellule ci-dessous un code qui :\n",
    "\n",
    "+ Demande à l'utilisateur trois **nombres entiers** `a`, `b` et `c` (représentant les coefficients $a$, $b$ et $c$ du trinôme $a x^2 + b x + c$)\n",
    "+ Calcule et affiche le discriminant `delta` de l'équation $a x^2 + b x + c = 0$ (donné par la formule $\\Delta = b^2 - 4 a c$)."
   ]
  },
  {
   "cell_type": "code",
   "execution_count": 68,
   "metadata": {
    "pycharm": {
     "name": "#%%\n"
    }
   },
   "outputs": [],
   "source": [
    "# TODO\n",
    "a = int(input(\"a= \"))\n",
    "b = int(input(\"b= \"))\n",
    "c = int(input(\"c= \"))\n"
   ]
  },
  {
   "cell_type": "markdown",
   "metadata": {
    "pycharm": {
     "name": "#%% md\n"
    }
   },
   "source": [
    "**Indication :** Vérifier que lorsque les entrées `a`, `b` et `c` sont respectivement `3`, `6` et `2`, le discriminant `delta` vaut `12`."
   ]
  },
  {
   "cell_type": "markdown",
   "metadata": {
    "pycharm": {
     "name": "#%% md\n"
    }
   },
   "source": [
    "***\n",
    "***\n",
    "\n",
    "# 5 - Booléens\n",
    "\n",
    "Une variable ou une expression de type **booléen** (`bool`) ne prend que deux \n",
    "valeurs : `True` ou `False`.\n",
    "\n",
    "Les **opérations sur les booléens** sont définies par les tables suivantes :\n",
    "\n",
    "**Opérateur `not`**\n",
    "\n",
    "`p`     | `not p`\n",
    "--------|--------\n",
    "`False` | `True`\n",
    "`True`  | `False`\n",
    "\n",
    "**Opérateur `and`**\n",
    "\n",
    "`p`     | `q`     | `p and q`\n",
    "--------|---------|----------\n",
    "`False` | `False` | `False`\n",
    "`False` | `True`  | `False`\n",
    "`True`  | `False` | `False`\n",
    "`True`  | `True`  | `True`\n",
    "\n",
    "**Opérateur `or`**\n",
    "\n",
    "`p`     | `q`     | `p or q`\n",
    "--------|---------|----------\n",
    "`False` | `False` | `False`\n",
    "`False` | `True`  | `True`\n",
    "`True`  | `False` | `True`\n",
    "`True`  | `True`  | `True`\n",
    "\n",
    "\n",
    "Les **opérateurs de comparaison** `==`, `!=`, `<`, `<=`, `>` et `>=` permettent\n",
    "la comparaison de variables et d’expressions (quelque soit leur type : `int`, \n",
    "`float`, `str`) et renvoient une valeur booléenne."
   ]
  },
  {
   "cell_type": "markdown",
   "metadata": {
    "pycharm": {
     "name": "#%% md\n"
    }
   },
   "source": [
    "***\n",
    "\n",
    "## Exercice 5.1 - Le type `bool` ⭐\n",
    "\n",
    "**1)** Exécuter le code suivant :"
   ]
  },
  {
   "cell_type": "code",
   "execution_count": 75,
   "metadata": {
    "pycharm": {
     "name": "#%%\n"
    }
   },
   "outputs": [
    {
     "name": "stdout",
     "output_type": "stream",
     "text": [
      "a <class 'int'> 8\n",
      "b <class 'int'> 13\n",
      "c <class 'bool'> True\n",
      "d <class 'bool'> False\n",
      "e <class 'bool'> True\n"
     ]
    }
   ],
   "source": [
    "a = 8\n",
    "b = 13\n",
    "c = a<=10\n",
    "d = b<=10\n",
    "e = c or d\n",
    "print(\"a\",type(a),a)\n",
    "print(\"b\",type(b),b)\n",
    "print(\"c\",type(c),c)\n",
    "print(\"d\",type(d),d)\n",
    "print(\"e\",type(e),e)"
   ]
  },
  {
   "cell_type": "markdown",
   "metadata": {
    "pycharm": {
     "name": "#%% md\n"
    }
   },
   "source": [
    "*Visualiser l'exécution du code sous [PythonTutor](https://pythontutor.com/visualize.html#code=a%20%3D%208%0Ab%20%3D%2013%0Ac%20%3D%20a%3C%3D10%0Ad%20%3D%20b%3C%3D10%0Ae%20%3D%20c%20or%20d%0Aprint%28%22a%22%2Ctype%28a%29%2Ca%29%0Aprint%28%22b%22%2Ctype%28b%29%2Cb%29%0Aprint%28%22c%22%2Ctype%28c%29%2Cc%29%0Aprint%28%22d%22%2Ctype%28d%29%2Cd%29%0Aprint%28%22e%22%2Ctype%28e%29%2Ce%29)*\n",
    "\n",
    "**Explication :**\n",
    "\n",
    "+ Les variable `a` et `b` contiennent deux nombres entiers (type `int`).\n",
    "+ La variable `c` est le résultat de la comparaison de `a` avec `10`, et est donc \n",
    "un booléen (type `bool`) dont la valeur est `True`.\n",
    "+ De même la variable `d` est de type `bool` et vaut `False`.\n",
    "+ La variable `e` est le résultat de la disjonction `or` de `c` et `d` et est \n",
    "donc de type `bool`, de valeur `True` (car `c` est `True`).\n",
    "\n",
    "**2)** Pour chacune des expressions booléennes suivantes, prédire sa **valeur** :\n",
    "+ `not 0==1`\n",
    "+ `6>0 and 7<5`\n",
    "+ `8<2 or 7>1`\n",
    "+ `((not 7<1) or 5<0) and 7<6`\n",
    "+ `(not 7<1) or (5<0 and 7<6)`\n",
    "+ `not 7<1 or 5<0 and 7<6`\n",
    "\n",
    "**3)** Vérifier ces valeurs en complétant la cellule de code suivante avec les affichages adéquats :"
   ]
  },
  {
   "cell_type": "code",
   "execution_count": 78,
   "metadata": {
    "pycharm": {
     "name": "#%%\n"
    }
   },
   "outputs": [
    {
     "name": "stdout",
     "output_type": "stream",
     "text": [
      "True\n",
      "False\n",
      "True\n",
      "False\n",
      "True\n",
      "True\n",
      "<class 'bool'>\n",
      "<class 'bool'>\n",
      "<class 'bool'>\n",
      "<class 'bool'>\n",
      "<class 'bool'>\n",
      "<class 'bool'>\n"
     ]
    }
   ],
   "source": [
    "# TODO\n",
    "print(not 0==1)\n",
    "print(6>0 and 7<5)\n",
    "print(8<2 or 7>1)\n",
    "print(((not 7<1) or 5<0) and 7<6)\n",
    "print((not 7<1) or (5<0 and 7<6))\n",
    "print(not 7<1 or 5<0 and 7<6)\n",
    "print(type(not 0==1))\n",
    "print(type(6>0 and 7<5))\n",
    "print(type(8<2 or 7>1))\n",
    "print(type(((not 7<1) or 5<0) and 7<6))\n",
    "print(type((not 7<1) or (5<0 and 7<6)))\n",
    "print(type(not 7<1 or 5<0 and 7<6))\n"
   ]
  },
  {
   "cell_type": "markdown",
   "metadata": {
    "pycharm": {
     "name": "#%% md\n"
    }
   },
   "source": [
    "***\n",
    "\n",
    "## Exercice 5.2 - Nombres mystères ⭐\n",
    "\n",
    "**Rappel :** Un entier `n` est divisible par un entier `p` (non nul) si et seulement si le reste de la division entière de `n` par `p` est `0`, autrement dit si `n%p==0`.\n",
    "\n",
    "**Pour chacun des cadres suivants, préciser la valeur entière de `n` de telle sorte que les booléens affichés soient tous égaux à `True`.**"
   ]
  },
  {
   "cell_type": "code",
   "execution_count": 80,
   "metadata": {
    "pycharm": {
     "name": "#%%\n"
    }
   },
   "outputs": [
    {
     "name": "stdout",
     "output_type": "stream",
     "text": [
      "True\n",
      "True\n",
      "True\n",
      "True\n"
     ]
    }
   ],
   "source": [
    "# 1)\n",
    "n = 6\n",
    "print(n>0)\n",
    "print(n<10)\n",
    "print(n%2==0)\n",
    "print(n%3==0)"
   ]
  },
  {
   "cell_type": "code",
   "execution_count": 82,
   "metadata": {
    "pycharm": {
     "name": "#%%\n"
    }
   },
   "outputs": [
    {
     "name": "stdout",
     "output_type": "stream",
     "text": [
      "True\n",
      "True\n"
     ]
    }
   ],
   "source": [
    "# 2)\n",
    "n = 28\n",
    "print(20<n<30)\n",
    "print(n%7==0 and (n-1)%3==0)"
   ]
  },
  {
   "cell_type": "code",
   "execution_count": 84,
   "metadata": {
    "pycharm": {
     "name": "#%%\n"
    }
   },
   "outputs": [
    {
     "name": "stdout",
     "output_type": "stream",
     "text": [
      "True\n"
     ]
    }
   ],
   "source": [
    "# 3)\n",
    "n = 24\n",
    "print(10<n<20 and not n%1==0 or 20<n<30 and n%8==0)"
   ]
  },
  {
   "cell_type": "markdown",
   "metadata": {
    "pycharm": {
     "name": "#%% md\n"
    }
   },
   "source": [
    "***\n",
    "\n",
    "## Exercice 5.3 - Année bissextile ⭐\n",
    "\n",
    "*Jusqu'en 1582, le **calendrier julien** prévoyait des années bissextiles \n",
    "(de 366 jours) tous les 4 ans. Mais cela causait un décalage par rapport à l'année\n",
    "solaire qui n'est **pas exactement de 365,25 jours** mais \n",
    "**approximativement 365,2425 jours**. Cette année-là, on est donc passé au \n",
    "**calendrier grégorien** pour être cohérent avec cette valeur, et la définition\n",
    "des années bissextiles a évolué. Depuis :*\n",
    " \n",
    "> **Une année est bissextile si elle est divisible par 4 mais pas par 100, ou si elle est divisible par 400.**\n",
    "\n",
    "Dans le cadre ci-dessous, compléter le contenue de la parenthèse du `print(...)` \n",
    "avec une **expression booléenne** de façon à ce que le programme affiche le booléen\n",
    "`True` lorsque l'année entière entrée par l'utilisateur est bissextile, et `False`\n",
    "sinon."
   ]
  },
  {
   "cell_type": "code",
   "execution_count": 86,
   "metadata": {
    "pycharm": {
     "name": "#%%\n"
    }
   },
   "outputs": [
    {
     "ename": "",
     "evalue": "",
     "output_type": "error",
     "traceback": [
      "\u001b[1;31mFailed to start the Kernel. \n",
      "\u001b[1;31mConnection is disposed. \n",
      "\u001b[1;31mView Jupyter <a href='command:jupyter.viewOutput'>log</a> for further details."
     ]
    }
   ],
   "source": [
    "annee = int(input('Entrer une année entière'))\n",
    "print(annee%4 == 0 and annee%100 != 0)\n"
   ]
  },
  {
   "cell_type": "markdown",
   "metadata": {
    "pycharm": {
     "name": "#%% md\n"
    }
   },
   "source": [
    "**Tester le programme** avec les années suivantes :\n",
    "\n",
    "année  | affichage attendu\n",
    "-------|------------------\n",
    "`2023` | `False`\n",
    "`2024` | `True`\n",
    "`2100` | `False`\n",
    "`2400` | `True`"
   ]
  },
  {
   "cell_type": "markdown",
   "metadata": {
    "pycharm": {
     "name": "#%% md\n"
    }
   },
   "source": [
    "***\n",
    "***\n",
    "\n",
    "# 6 - Librairie `turtle` 🐢 (Pour aller plus loin)"
   ]
  },
  {
   "cell_type": "markdown",
   "metadata": {
    "pycharm": {
     "name": "#%% md\n"
    }
   },
   "source": [
    "*** \n",
    "\n",
    "## Exercice 6.1 - Utiliser la librairie `turtle` 🐢\n",
    "\n",
    "On peut être amené à enrichir les instructions disponibles en important des bibliothèques complémentaires.  \n",
    "\n",
    "`Turtle` est une bibliothèque qui permet de construire des dessins en donnant des ordres à une \"tortue\" qui se déplace sur une feuille correspondant au plan cartésien classique.\n",
    "\n",
    "![repere](https://i.imgur.com/FJ33dwN.png)\n",
    "\n",
    "On départ, la \"tortue\" est placée en $(0,0)$, au centre de la fenêtre graphique, orientée vers l'axe des abscisses.\n",
    "La tortue est capable de réaliser un certain nombre d'actions différentes, de changer de couleur, de laisser ou ne pas laisser de trace...\n",
    "Elle peut se déplacer vers un point dont on connait les coordonnées, ou au contraire utiliser des mouvements \"relatifs\" (forward, left...)\n",
    "Les coordonnées sont mesurées en pixel et les angles sont donnés en degrés. Les cercles de rayon positif sont parcours dans le sens inverse des aiguille d'une\n",
    "montre (sens trigonométrique).\n",
    "\n",
    "> Attention (sous VS code), pour que turtle déclenche le dessin il faut que le notebook soit sauvegardé (penser à faire CTRL+S) !\n",
    "\n",
    "Le programme ci-dessous dessine le drapeau Hollandais.\n"
   ]
  },
  {
   "cell_type": "code",
   "execution_count": 91,
   "metadata": {
    "pycharm": {
     "name": "#%%\n"
    }
   },
   "outputs": [
    {
     "ename": "",
     "evalue": "",
     "output_type": "error",
     "traceback": [
      "\u001b[1;31mFailed to start the Kernel. \n",
      "\u001b[1;31mConnection is disposed. \n",
      "\u001b[1;31mView Jupyter <a href='command:jupyter.viewOutput'>log</a> for further details."
     ]
    }
   ],
   "source": [
    "from turtle import *\n",
    "speed(0)\n",
    "\n",
    "up()\n",
    "goto(-150,-150)\n",
    "down()\n",
    "\n",
    "left(90)\n",
    "\n",
    "begin_fill()\n",
    "color('blue')\n",
    "forward(100)\n",
    "right(90)\n",
    "forward(300)\n",
    "right(90)\n",
    "forward(100)\n",
    "right(90)\n",
    "forward(300)\n",
    "right(90)\n",
    "end_fill()\n",
    "\n",
    "forward(200)\n",
    "\n",
    "begin_fill()\n",
    "color('red')\n",
    "forward(100)\n",
    "right(90)\n",
    "forward(300)\n",
    "right(90)\n",
    "forward(100)\n",
    "right(90)\n",
    "forward(300)\n",
    "right(90)\n",
    "end_fill()\n",
    "# indispensable pour obtenir un affichage et sortir proprement !\n",
    "done()\n",
    "try:\n",
    "    bye()\n",
    "except:\n",
    "    print(\"bye\")\n"
   ]
  },
  {
   "cell_type": "markdown",
   "metadata": {
    "pycharm": {
     "name": "#%% md\n"
    }
   },
   "source": [
    "Seriez vous capables de réaliser le drapeau italien ?\n",
    "\n",
    "![italia](https://upload.wikimedia.org/wikipedia/commons/thumb/0/03/Flag_of_Italy.svg/110px-Flag_of_Italy.svg.png)"
   ]
  },
  {
   "cell_type": "code",
   "execution_count": 3,
   "metadata": {
    "pycharm": {
     "name": "#%%\n"
    }
   },
   "outputs": [
    {
     "name": "stdout",
     "output_type": "stream",
     "text": [
      "bye\n"
     ]
    }
   ],
   "source": [
    "from turtle import *\n",
    "speed(0)\n",
    "\n",
    "up()\n",
    "goto(-150,-150)\n",
    "down()\n",
    "\n",
    "left(90)\n",
    "\n",
    "begin_fill()\n",
    "color('green')\n",
    "forward(300)\n",
    "right(90)\n",
    "forward(150)\n",
    "right(90)\n",
    "forward(300)\n",
    "end_fill()\n",
    "left(90)\n",
    "begin_fill()\n",
    "color('white')\n",
    "forward(150)\n",
    "left(90)\n",
    "forward(300)\n",
    "end_fill()\n",
    "right(90)\n",
    "begin_fill()\n",
    "color('red')\n",
    "forward(150)\n",
    "right(90)\n",
    "forward(300)\n",
    "right(90)\n",
    "forward(150)\n",
    "right(90)\n",
    "end_fill()\n",
    "done()\n",
    "try:\n",
    "    bye()\n",
    "except:\n",
    "    print(\"bye\")"
   ]
  },
  {
   "cell_type": "markdown",
   "metadata": {
    "pycharm": {
     "name": "#%% md\n"
    }
   },
   "source": [
    "Et le drapeau du Sénegal ?\n",
    "\n",
    "![senegal](https://upload.wikimedia.org/wikipedia/commons/thumb/f/fd/Flag_of_Senegal.svg/165px-Flag_of_Senegal.svg.png)"
   ]
  },
  {
   "cell_type": "code",
   "execution_count": 1,
   "metadata": {
    "pycharm": {
     "is_executing": true,
     "name": "#%%\n"
    }
   },
   "outputs": [
    {
     "name": "stdout",
     "output_type": "stream",
     "text": [
      "bye\n"
     ]
    }
   ],
   "source": [
    "from turtle import *\n",
    "speed(0)\n",
    "\n",
    "up()\n",
    "goto(-150,-150)\n",
    "down()\n",
    "\n",
    "from turtle import *\n",
    "speed(0)\n",
    "\n",
    "up()\n",
    "goto(-150,-150)\n",
    "down()\n",
    "\n",
    "left(90)\n",
    "\n",
    "begin_fill()\n",
    "color('green')\n",
    "forward(300)\n",
    "right(90)\n",
    "forward(150)\n",
    "right(90)\n",
    "forward(300)\n",
    "end_fill()\n",
    "left(180)\n",
    "begin_fill()\n",
    "color('yellow')\n",
    "forward(300)\n",
    "right(90)\n",
    "forward(150)\n",
    "right(90)\n",
    "forward(300)\n",
    "end_fill()\n",
    "begin_fill()\n",
    "color('red')\n",
    "left(90)\n",
    "forward(150)\n",
    "left(90)\n",
    "forward(300)\n",
    "left(90)\n",
    "forward(150)\n",
    "end_fill()\n",
    "left(90)\n",
    "forward(125)\n",
    "right(90)\n",
    "forward(30)\n",
    "begin_fill()\n",
    "color('green')\n",
    "forward(100)\n",
    "left(140)\n",
    "forward(100)\n",
    "left(140)\n",
    "forward(100)\n",
    "left(140)\n",
    "forward(100)\n",
    "left(140)\n",
    "forward(100)\n",
    "end_fill()\n",
    "done()\n",
    "try:\n",
    "    bye()\n",
    "except:\n",
    "    print(\"bye\")\n",
    "try:\n",
    "    bye()\n",
    "except:\n",
    "    print(\"bye\")"
   ]
  }
 ],
 "metadata": {
  "kernelspec": {
   "display_name": "Python 3",
   "language": "python",
   "name": "python3"
  },
  "language_info": {
   "codemirror_mode": {
    "name": "ipython",
    "version": 3
   },
   "file_extension": ".py",
   "mimetype": "text/x-python",
   "name": "python",
   "nbconvert_exporter": "python",
   "pygments_lexer": "ipython3",
   "version": "3.12.1"
  },
  "vscode": {
   "interpreter": {
    "hash": "31f2aee4e71d21fbe5cf8b01ff0e069b9275f58929596ceb00d14d90e3e16cd6"
   }
  }
 },
 "nbformat": 4,
 "nbformat_minor": 2
}
